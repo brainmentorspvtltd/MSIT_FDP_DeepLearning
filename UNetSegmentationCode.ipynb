{
 "cells": [
  {
   "cell_type": "code",
   "execution_count": 1,
   "id": "ce57651c",
   "metadata": {},
   "outputs": [],
   "source": [
    "import tensorflow as tf\n",
    "import numpy as np\n",
    "import os\n",
    "from skimage.io import imread, imshow\n",
    "from skimage.transform import resize\n",
    "from tensorflow.keras.layers import Input, Conv2D, MaxPooling2D, Dropout, Conv2DTranspose\n",
    "# tqdm - for showing progress\n",
    "from tqdm import tqdm"
   ]
  },
  {
   "cell_type": "code",
   "execution_count": 2,
   "id": "b8dd435a",
   "metadata": {},
   "outputs": [],
   "source": [
    "TRAIN_PATH = \"NuclieDataset/stage1_train\"\n",
    "TEST_PATH = \"NuclieDataset/stage1_test\""
   ]
  },
  {
   "cell_type": "code",
   "execution_count": 4,
   "id": "3627fda0",
   "metadata": {},
   "outputs": [
    {
     "name": "stderr",
     "output_type": "stream",
     "text": [
      "C:\\Users\\asus\\AppData\\Local\\Temp\\ipykernel_32920\\3600249695.py:7: DeprecationWarning: `np.bool` is a deprecated alias for the builtin `bool`. To silence this warning, use `bool` by itself. Doing this will not modify any behavior and is safe. If you specifically wanted the numpy scalar type, use `np.bool_` here.\n",
      "Deprecated in NumPy 1.20; for more details and guidance: https://numpy.org/devdocs/release/1.20.0-notes.html#deprecations\n",
      "  Y_train = np.zeros((n, IMG_HEIGHT, IMG_WIDTH, 1), dtype=np.bool)\n"
     ]
    }
   ],
   "source": [
    "TRAIN_IMAGES_FOLDERS = os.listdir(TRAIN_PATH)\n",
    "n = len(TRAIN_IMAGES_FOLDERS)\n",
    "\n",
    "IMG_WIDTH, IMG_HEIGHT, COLOR_CHANNEL = 128, 128, 3\n",
    "\n",
    "X_train = np.zeros((n, IMG_HEIGHT, IMG_WIDTH, COLOR_CHANNEL), dtype=np.uint8)\n",
    "Y_train = np.zeros((n, IMG_HEIGHT, IMG_WIDTH, 1), dtype=np.bool)"
   ]
  },
  {
   "cell_type": "code",
   "execution_count": 5,
   "id": "4c206351",
   "metadata": {},
   "outputs": [
    {
     "data": {
      "text/plain": [
       "670"
      ]
     },
     "execution_count": 5,
     "metadata": {},
     "output_type": "execute_result"
    }
   ],
   "source": [
    "n"
   ]
  },
  {
   "cell_type": "code",
   "execution_count": 6,
   "id": "cb18f727",
   "metadata": {},
   "outputs": [
    {
     "data": {
      "text/plain": [
       "(670, 128, 128, 3)"
      ]
     },
     "execution_count": 6,
     "metadata": {},
     "output_type": "execute_result"
    }
   ],
   "source": [
    "X_train.shape"
   ]
  },
  {
   "cell_type": "code",
   "execution_count": 7,
   "id": "7be1b443",
   "metadata": {},
   "outputs": [],
   "source": [
    "img_path = TRAIN_PATH + \"/\" + TRAIN_IMAGES_FOLDERS[0] + \"/images/\""
   ]
  },
  {
   "cell_type": "code",
   "execution_count": 8,
   "id": "39b072fa",
   "metadata": {},
   "outputs": [
    {
     "data": {
      "text/plain": [
       "'NuclieDataset/stage1_train/00071198d059ba7f5914a526d124d28e6d010c92466da21d4a04cd5413362552/images/'"
      ]
     },
     "execution_count": 8,
     "metadata": {},
     "output_type": "execute_result"
    }
   ],
   "source": [
    "img_path"
   ]
  },
  {
   "cell_type": "code",
   "execution_count": null,
   "id": "42ac8225",
   "metadata": {},
   "outputs": [
    {
     "name": "stderr",
     "output_type": "stream",
     "text": [
      "  0%|                                                                                          | 0/670 [00:00<?, ?it/s]C:\\Users\\asus\\AppData\\Local\\Temp\\ipykernel_32920\\1738662445.py:11: DeprecationWarning: `np.bool` is a deprecated alias for the builtin `bool`. To silence this warning, use `bool` by itself. Doing this will not modify any behavior and is safe. If you specifically wanted the numpy scalar type, use `np.bool_` here.\n",
      "Deprecated in NumPy 1.20; for more details and guidance: https://numpy.org/devdocs/release/1.20.0-notes.html#deprecations\n",
      "  mask = np.zeros([IMG_HEIGHT, IMG_WIDTH, 1], dtype=np.bool)\n",
      " 33%|██████████████████████████▌                                                     | 222/670 [02:17<02:06,  3.54it/s]"
     ]
    }
   ],
   "source": [
    "for i in tqdm(range(len(TRAIN_IMAGES_FOLDERS))):\n",
    "    img_path = TRAIN_PATH + \"/\" + TRAIN_IMAGES_FOLDERS[i] + \"/images/\"\n",
    "    img_name = os.listdir(img_path)[0]\n",
    "    img_final_path = img_path + \"/\" + img_name\n",
    "    img = imread(img_final_path)[:,:,:COLOR_CHANNEL]\n",
    "    img = resize(img, (IMG_HEIGHT, IMG_WIDTH), mode=\"constant\",\n",
    "                preserve_range=True)\n",
    "    X_train[i] = img\n",
    "    mask_path = TRAIN_PATH + \"/\" + TRAIN_IMAGES_FOLDERS[i] + \"/masks/\" \n",
    "    mask_images = os.listdir(mask_path)\n",
    "    mask = np.zeros([IMG_HEIGHT, IMG_WIDTH, 1], dtype=np.bool)\n",
    "    for j in range(len(mask_images)):\n",
    "        mask_img = imread(mask_path + \"/\" + mask_images[j])\n",
    "        mask_img = resize(mask_img, (IMG_HEIGHT, IMG_WIDTH), mode=\"constant\",\n",
    "                         preserve_range=True)\n",
    "        mask_img = np.expand_dims(mask_img, axis=-1)\n",
    "        mask = np.maximum(mask, mask_img)\n",
    "    \n",
    "    Y_train[i] = mask"
   ]
  },
  {
   "cell_type": "code",
   "execution_count": null,
   "id": "e778aa18",
   "metadata": {},
   "outputs": [],
   "source": []
  }
 ],
 "metadata": {
  "kernelspec": {
   "display_name": "Python 3 (ipykernel)",
   "language": "python",
   "name": "python3"
  },
  "language_info": {
   "codemirror_mode": {
    "name": "ipython",
    "version": 3
   },
   "file_extension": ".py",
   "mimetype": "text/x-python",
   "name": "python",
   "nbconvert_exporter": "python",
   "pygments_lexer": "ipython3",
   "version": "3.9.7"
  }
 },
 "nbformat": 4,
 "nbformat_minor": 5
}
