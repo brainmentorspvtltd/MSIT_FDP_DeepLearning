{
 "cells": [
  {
   "cell_type": "code",
   "execution_count": 19,
   "id": "d033ce07",
   "metadata": {},
   "outputs": [
    {
     "name": "stdout",
     "output_type": "stream",
     "text": [
      "Requirement already satisfied: opencv-python in c:\\users\\asus\\anaconda3\\lib\\site-packages (4.5.5.64)\n",
      "Requirement already satisfied: numpy>=1.19.3 in c:\\users\\asus\\anaconda3\\lib\\site-packages (from opencv-python) (1.22.3)\n"
     ]
    }
   ],
   "source": [
    "!pip install opencv-python"
   ]
  },
  {
   "cell_type": "code",
   "execution_count": 1,
   "id": "b00b4b54",
   "metadata": {},
   "outputs": [],
   "source": [
    "import cv2"
   ]
  },
  {
   "cell_type": "code",
   "execution_count": 2,
   "id": "97a510fd",
   "metadata": {},
   "outputs": [],
   "source": [
    "img = cv2.imread('img_1.jpeg')"
   ]
  },
  {
   "cell_type": "code",
   "execution_count": 3,
   "id": "89fdfb09",
   "metadata": {},
   "outputs": [
    {
     "data": {
      "text/plain": [
       "numpy.ndarray"
      ]
     },
     "execution_count": 3,
     "metadata": {},
     "output_type": "execute_result"
    }
   ],
   "source": [
    "type(img)"
   ]
  },
  {
   "cell_type": "code",
   "execution_count": 4,
   "id": "9bd7559a",
   "metadata": {},
   "outputs": [
    {
     "data": {
      "text/plain": [
       "(540, 820, 3)"
      ]
     },
     "execution_count": 4,
     "metadata": {},
     "output_type": "execute_result"
    }
   ],
   "source": [
    "img.shape"
   ]
  },
  {
   "cell_type": "code",
   "execution_count": 5,
   "id": "509cf4b7",
   "metadata": {},
   "outputs": [
    {
     "data": {
      "text/plain": [
       "array([[[140, 104,  96],\n",
       "        [137, 101,  93],\n",
       "        [135,  98,  90],\n",
       "        ...,\n",
       "        [171, 167,  79],\n",
       "        [172, 168,  80],\n",
       "        [172, 168,  80]],\n",
       "\n",
       "       [[142, 106,  98],\n",
       "        [140, 104,  96],\n",
       "        [137, 100,  92],\n",
       "        ...,\n",
       "        [171, 167,  79],\n",
       "        [172, 168,  80],\n",
       "        [173, 169,  81]],\n",
       "\n",
       "       [[145, 109, 101],\n",
       "        [142, 106,  98],\n",
       "        [139, 103,  95],\n",
       "        ...,\n",
       "        [170, 166,  77],\n",
       "        [171, 167,  78],\n",
       "        [172, 168,  79]],\n",
       "\n",
       "       ...,\n",
       "\n",
       "       [[ 50,  60,  78],\n",
       "        [ 52,  62,  80],\n",
       "        [ 50,  60,  78],\n",
       "        ...,\n",
       "        [ 61,  48,  56],\n",
       "        [ 62,  48,  60],\n",
       "        [ 60,  48,  60]],\n",
       "\n",
       "       [[ 52,  59,  79],\n",
       "        [ 55,  62,  82],\n",
       "        [ 51,  60,  80],\n",
       "        ...,\n",
       "        [ 63,  50,  58],\n",
       "        [ 63,  49,  61],\n",
       "        [ 61,  49,  61]],\n",
       "\n",
       "       [[ 53,  60,  80],\n",
       "        [ 55,  62,  82],\n",
       "        [ 51,  60,  80],\n",
       "        ...,\n",
       "        [ 64,  51,  59],\n",
       "        [ 65,  51,  63],\n",
       "        [ 63,  51,  63]]], dtype=uint8)"
      ]
     },
     "execution_count": 5,
     "metadata": {},
     "output_type": "execute_result"
    }
   ],
   "source": [
    "# bgr - blue, green, red\n",
    "img"
   ]
  },
  {
   "cell_type": "code",
   "execution_count": 6,
   "id": "13c6a7e6",
   "metadata": {},
   "outputs": [
    {
     "data": {
      "text/plain": [
       "-1"
      ]
     },
     "execution_count": 6,
     "metadata": {},
     "output_type": "execute_result"
    }
   ],
   "source": [
    "cv2.imshow('result', img)\n",
    "cv2.waitKey(0)"
   ]
  },
  {
   "cell_type": "code",
   "execution_count": 11,
   "id": "5e3617e5",
   "metadata": {},
   "outputs": [
    {
     "name": "stdout",
     "output_type": "stream",
     "text": [
      "Video/Camera not found...\n"
     ]
    }
   ],
   "source": [
    "# 0 - default camera\n",
    "# cv2.VideoCapture(0)\n",
    "\n",
    "# 1 - external webcam\n",
    "# cv2.VideoCapture(1)\n",
    "\n",
    "capture = cv2.VideoCapture('video_1.mp4')\n",
    "i = 0\n",
    "while True:\n",
    "    flag, frame = capture.read()\n",
    "    if flag:\n",
    "        i += 1\n",
    "        frame = cv2.resize(frame, None, None, fx=0.5, fy=0.5)\n",
    "        cv2.imshow('result', frame)\n",
    "        cv2.imwrite(f'images/img_{i}.png', frame)\n",
    "        # 27 - ASCII of escape\n",
    "        if cv2.waitKey(1) == 27:\n",
    "            break\n",
    "    else:\n",
    "        print(\"Video/Camera not found...\")\n",
    "        break\n",
    "        \n",
    "capture.release()\n",
    "cv2.destroyAllWindows()"
   ]
  },
  {
   "cell_type": "code",
   "execution_count": 12,
   "id": "498f5ac8",
   "metadata": {},
   "outputs": [],
   "source": [
    "haar_data = cv2.CascadeClassifier('haarcascade_frontalface_default.xml')"
   ]
  },
  {
   "cell_type": "code",
   "execution_count": 13,
   "id": "6079819a",
   "metadata": {},
   "outputs": [
    {
     "data": {
      "text/plain": [
       "array([[267,  22, 153, 153]])"
      ]
     },
     "execution_count": 13,
     "metadata": {},
     "output_type": "execute_result"
    }
   ],
   "source": [
    "haar_data.detectMultiScale(img)"
   ]
  },
  {
   "cell_type": "code",
   "execution_count": 14,
   "id": "01bc8c5a",
   "metadata": {},
   "outputs": [],
   "source": [
    "img_2 = cv2.imread('img_2.webp')"
   ]
  },
  {
   "cell_type": "code",
   "execution_count": 15,
   "id": "80810bdb",
   "metadata": {},
   "outputs": [
    {
     "data": {
      "text/plain": [
       "array([[  48,   29,  155,  155],\n",
       "       [1368,   40,  181,  181],\n",
       "       [ 480,   86,  140,  140],\n",
       "       [1091,   96,  127,  127],\n",
       "       [ 779,  101,  123,  123]])"
      ]
     },
     "execution_count": 15,
     "metadata": {},
     "output_type": "execute_result"
    }
   ],
   "source": [
    "haar_data.detectMultiScale(img_2)"
   ]
  },
  {
   "cell_type": "code",
   "execution_count": 18,
   "id": "8bb6c876",
   "metadata": {},
   "outputs": [],
   "source": [
    "faces = haar_data.detectMultiScale(img_2)\n",
    "\n",
    "while True:\n",
    "    for x,y,w,h in faces:\n",
    "        cv2.rectangle(img_2, (x,y), (x+w, y+h), (225,0,0), 4)\n",
    "    cv2.imshow('result', img_2)\n",
    "    if cv2.waitKey(1) == 27:\n",
    "        break\n",
    "        \n",
    "capture.release()\n",
    "cv2.destroyAllWindows()"
   ]
  },
  {
   "cell_type": "code",
   "execution_count": 20,
   "id": "8a5a9fbf",
   "metadata": {},
   "outputs": [],
   "source": [
    "capture = cv2.VideoCapture('video_1.mp4')\n",
    "while True:\n",
    "    flag, frame = capture.read()\n",
    "    if flag:\n",
    "        i += 1\n",
    "        frame = cv2.resize(frame, None, None, fx=0.5, fy=0.5)\n",
    "        faces = haar_data.detectMultiScale(frame)\n",
    "        for x,y,w,h in faces:\n",
    "            cv2.rectangle(frame, (x,y), (x+w, y+h), (225,0,0), 4)\n",
    "        cv2.imshow('result', frame)\n",
    "        if cv2.waitKey(1) == 27:\n",
    "            break\n",
    "    else:\n",
    "        print(\"Video/Camera not found...\")\n",
    "        break\n",
    "        \n",
    "capture.release()\n",
    "cv2.destroyAllWindows()"
   ]
  },
  {
   "cell_type": "code",
   "execution_count": null,
   "id": "9d1b22c9",
   "metadata": {},
   "outputs": [],
   "source": []
  }
 ],
 "metadata": {
  "kernelspec": {
   "display_name": "Python 3 (ipykernel)",
   "language": "python",
   "name": "python3"
  },
  "language_info": {
   "codemirror_mode": {
    "name": "ipython",
    "version": 3
   },
   "file_extension": ".py",
   "mimetype": "text/x-python",
   "name": "python",
   "nbconvert_exporter": "python",
   "pygments_lexer": "ipython3",
   "version": "3.9.7"
  }
 },
 "nbformat": 4,
 "nbformat_minor": 5
}
