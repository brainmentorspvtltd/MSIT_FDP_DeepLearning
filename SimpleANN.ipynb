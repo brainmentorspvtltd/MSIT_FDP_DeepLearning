{
  "nbformat": 4,
  "nbformat_minor": 0,
  "metadata": {
    "colab": {
      "provenance": [],
      "authorship_tag": "ABX9TyM3HwktrWOxfWAAMJV4Vzo3",
      "include_colab_link": true
    },
    "kernelspec": {
      "name": "python3",
      "display_name": "Python 3"
    },
    "language_info": {
      "name": "python"
    }
  },
  "cells": [
    {
      "cell_type": "markdown",
      "metadata": {
        "id": "view-in-github",
        "colab_type": "text"
      },
      "source": [
        "<a href=\"https://colab.research.google.com/github/brainmentorspvtltd/MSIT_FDP_DeepLearning/blob/main/SimpleANN.ipynb\" target=\"_parent\"><img src=\"https://colab.research.google.com/assets/colab-badge.svg\" alt=\"Open In Colab\"/></a>"
      ]
    },
    {
      "cell_type": "code",
      "execution_count": 1,
      "metadata": {
        "id": "uS4IscIhPCxa"
      },
      "outputs": [],
      "source": [
        "import numpy as np"
      ]
    },
    {
      "cell_type": "code",
      "source": [
        "x = np.array([[1,0,1,0], [1,0,1,1], [0,1,0,1]])\n",
        "y = np.array([[1],[1],[0]])"
      ],
      "metadata": {
        "id": "O0JP-oVKPFfR"
      },
      "execution_count": 2,
      "outputs": []
    },
    {
      "cell_type": "code",
      "source": [
        "x"
      ],
      "metadata": {
        "colab": {
          "base_uri": "https://localhost:8080/"
        },
        "id": "XjsGe1B6POCV",
        "outputId": "16d4c814-7583-464f-ac78-b333ac8fbc69"
      },
      "execution_count": 3,
      "outputs": [
        {
          "output_type": "execute_result",
          "data": {
            "text/plain": [
              "array([[1, 0, 1, 0],\n",
              "       [1, 0, 1, 1],\n",
              "       [0, 1, 0, 1]])"
            ]
          },
          "metadata": {},
          "execution_count": 3
        }
      ]
    },
    {
      "cell_type": "code",
      "source": [
        "inputNeurons = 4\n",
        "hiddenNeurons = 3\n",
        "outputNeurons = 1"
      ],
      "metadata": {
        "id": "inF226NsPOVZ"
      },
      "execution_count": 8,
      "outputs": []
    },
    {
      "cell_type": "code",
      "source": [
        "def sigmoid(x):\n",
        "  return 1 / (1 + np.exp(-x))"
      ],
      "metadata": {
        "id": "wEb4OZFGPmou"
      },
      "execution_count": 15,
      "outputs": []
    },
    {
      "cell_type": "code",
      "source": [
        "weightsHidden = np.random.uniform(size=(inputNeurons, hiddenNeurons))\n",
        "biasHidden = np.random.uniform(size=(1, hiddenNeurons))\n",
        "\n",
        "weightsOutput = np.random.uniform(size=(hiddenNeurons, outputNeurons))\n",
        "biasOutput = np.random.uniform(size=(1, outputNeurons))"
      ],
      "metadata": {
        "id": "rKYBk_sWPu9s"
      },
      "execution_count": 16,
      "outputs": []
    },
    {
      "cell_type": "code",
      "source": [
        "weightsHidden"
      ],
      "metadata": {
        "colab": {
          "base_uri": "https://localhost:8080/"
        },
        "id": "kcSjWu1mQgde",
        "outputId": "8d65a567-245f-4cfd-f2cf-d1bd94af6a93"
      },
      "execution_count": 17,
      "outputs": [
        {
          "output_type": "execute_result",
          "data": {
            "text/plain": [
              "array([[0.75923546, 0.15056198, 0.52875824],\n",
              "       [0.75381134, 0.38018359, 0.5959384 ],\n",
              "       [0.18595813, 0.20645962, 0.83853093],\n",
              "       [0.59660011, 0.77770993, 0.75384591]])"
            ]
          },
          "metadata": {},
          "execution_count": 17
        }
      ]
    },
    {
      "cell_type": "code",
      "source": [
        "# Feedforward\n",
        "fx = x.dot(weightsHidden) + biasHidden\n",
        "hiddenLayer = sigmoid(fx)\n",
        "\n",
        "fx1 = hiddenLayer.dot(weightsOutput) + biasOutput\n",
        "outputLayer = sigmoid(fx1)"
      ],
      "metadata": {
        "id": "LG-4UrBvQmPM"
      },
      "execution_count": 18,
      "outputs": []
    },
    {
      "cell_type": "code",
      "source": [
        "outputLayer"
      ],
      "metadata": {
        "colab": {
          "base_uri": "https://localhost:8080/"
        },
        "id": "bg1ex9yCRRJA",
        "outputId": "606276b2-a349-4db8-fdb1-6f38bf6eee3e"
      },
      "execution_count": 19,
      "outputs": [
        {
          "output_type": "execute_result",
          "data": {
            "text/plain": [
              "array([[0.91960896],\n",
              "       [0.93272732],\n",
              "       [0.92938795]])"
            ]
          },
          "metadata": {},
          "execution_count": 19
        }
      ]
    },
    {
      "cell_type": "code",
      "source": [],
      "metadata": {
        "id": "bWuneWEIRbhe"
      },
      "execution_count": null,
      "outputs": []
    }
  ]
}