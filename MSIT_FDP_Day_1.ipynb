{
  "nbformat": 4,
  "nbformat_minor": 0,
  "metadata": {
    "colab": {
      "provenance": [],
      "authorship_tag": "ABX9TyPNyg0ZTXO9bCwkXl+4Sv1M",
      "include_colab_link": true
    },
    "kernelspec": {
      "name": "python3",
      "display_name": "Python 3"
    },
    "language_info": {
      "name": "python"
    }
  },
  "cells": [
    {
      "cell_type": "markdown",
      "metadata": {
        "id": "view-in-github",
        "colab_type": "text"
      },
      "source": [
        "<a href=\"https://colab.research.google.com/github/brainmentorspvtltd/MSIT_FDP_DeepLearning/blob/main/MSIT_FDP_Day_1.ipynb\" target=\"_parent\"><img src=\"https://colab.research.google.com/assets/colab-badge.svg\" alt=\"Open In Colab\"/></a>"
      ]
    },
    {
      "cell_type": "code",
      "execution_count": 1,
      "metadata": {
        "id": "lDQ34EsRsoxP"
      },
      "outputs": [],
      "source": [
        "a = 23\n",
        "b = 21"
      ]
    },
    {
      "cell_type": "code",
      "source": [
        "c = a + b"
      ],
      "metadata": {
        "id": "ZVZH5xoutasw"
      },
      "execution_count": 2,
      "outputs": []
    },
    {
      "cell_type": "code",
      "source": [
        "print(\"Sum is\",c)\n",
        "print(\"Sum is {}\".format(c))\n",
        "print(f\"Sum is {c}\") # f-string\n",
        "print(f\"Sum of {a} and {b} is {c}\")"
      ],
      "metadata": {
        "colab": {
          "base_uri": "https://localhost:8080/"
        },
        "id": "LmifbyfLtlSF",
        "outputId": "8c909fa8-f54b-4811-90db-e8ab8ccdbde4"
      },
      "execution_count": 5,
      "outputs": [
        {
          "output_type": "stream",
          "name": "stdout",
          "text": [
            "Sum is 44\n",
            "Sum is 44\n",
            "Sum is 44\n",
            "Sum of 23 and 21 is 44\n"
          ]
        }
      ]
    },
    {
      "cell_type": "code",
      "source": [
        "msg = input(\"Enter your message : \")\n",
        "\n",
        "if msg == \"hello\":\n",
        "  print(\"Hello User\")\n",
        "else:\n",
        "  print(\"I don't understand\")\n"
      ],
      "metadata": {
        "colab": {
          "base_uri": "https://localhost:8080/"
        },
        "id": "Javo2-YAtmlr",
        "outputId": "fb853351-9e65-47b1-c890-3f886375e9aa"
      },
      "execution_count": 6,
      "outputs": [
        {
          "output_type": "stream",
          "name": "stdout",
          "text": [
            "Enter your message : hello\n",
            "Hello User\n"
          ]
        }
      ]
    },
    {
      "cell_type": "code",
      "source": [
        "msg = input(\"Enter your message : \")\n",
        "\n",
        "if msg == \"hello\" or msg == \"hi\" or msg == \"hey\":\n",
        "  print(\"Hello User\")\n",
        "elif msg == \"bye\":\n",
        "  print(\"Bye User\")\n",
        "else:\n",
        "  print(\"I don't understand\")\n"
      ],
      "metadata": {
        "colab": {
          "base_uri": "https://localhost:8080/"
        },
        "id": "zx-aFpIOuuGI",
        "outputId": "fed24720-ee21-4516-f7a5-9eb46609007c"
      },
      "execution_count": 9,
      "outputs": [
        {
          "output_type": "stream",
          "name": "stdout",
          "text": [
            "Enter your message : hi\n",
            "Hello User\n"
          ]
        }
      ]
    },
    {
      "cell_type": "code",
      "source": [
        "# for i in range(5):\n",
        "#   print(i)"
      ],
      "metadata": {
        "id": "vGVByqDGv9Of"
      },
      "execution_count": 11,
      "outputs": []
    },
    {
      "cell_type": "code",
      "source": [
        "for i in range(5,15):\n",
        "  print(i, end=\",\")"
      ],
      "metadata": {
        "colab": {
          "base_uri": "https://localhost:8080/"
        },
        "id": "C1G84DH-wKw8",
        "outputId": "7e393915-dc87-40db-c8bd-04b0793400a0"
      },
      "execution_count": 14,
      "outputs": [
        {
          "output_type": "stream",
          "name": "stdout",
          "text": [
            "5,6,7,8,9,10,11,12,13,14,"
          ]
        }
      ]
    },
    {
      "cell_type": "code",
      "source": [
        "# start = 0\n",
        "# stop = 20\n",
        "# step = 2\n",
        "for i in range(2,21,2):\n",
        "  print(i)\n"
      ],
      "metadata": {
        "colab": {
          "base_uri": "https://localhost:8080/"
        },
        "id": "NG-6eBVFwMpp",
        "outputId": "d4f56b31-2e3e-465d-85dd-8dc736dda060"
      },
      "execution_count": 15,
      "outputs": [
        {
          "output_type": "stream",
          "name": "stdout",
          "text": [
            "2\n",
            "4\n",
            "6\n",
            "8\n",
            "10\n",
            "12\n",
            "14\n",
            "16\n",
            "18\n",
            "20\n"
          ]
        }
      ]
    },
    {
      "cell_type": "code",
      "source": [
        "# import datetime as dt\n",
        "from datetime import datetime as dt\n",
        "\n",
        "greetIntent = [\"hi\", \"hello\", \"hey\", \"hello there\", \"hi there\"]\n",
        "dateIntent = [\"date\", \"date please\", \"tell me date\", \"what's the date\"]\n",
        "timeIntent = [\"time\", \"please tell me time\" \"what's the time\", \"time please\"]\n",
        "\n",
        "chat = True\n",
        "while chat:\n",
        "  msg = input(\"Enter your message : \")\n",
        "\n",
        "  if msg in greetIntent:\n",
        "    print(\"Hello User\")\n",
        "  elif msg in dateIntent:\n",
        "    date = dt.now().date()\n",
        "    print(\"Date is :\",date)\n",
        "  elif msg in timeIntent:\n",
        "    time = dt.now().time()\n",
        "    print(\"Time is :\",time.strftime(\"%H:%M:%S, %p\"))\n",
        "  elif msg == \"bye\":\n",
        "    print(\"Bye User\")\n",
        "    chat = False\n",
        "  else:\n",
        "    print(\"I don't understand\")\n"
      ],
      "metadata": {
        "colab": {
          "base_uri": "https://localhost:8080/"
        },
        "id": "GRj3LwKowe_l",
        "outputId": "294ea839-2956-4da0-ed96-51be21691ac1"
      },
      "execution_count": 18,
      "outputs": [
        {
          "output_type": "stream",
          "name": "stdout",
          "text": [
            "Enter your message : time\n",
            "Time is : 06:14:59, AM\n",
            "Enter your message : bye\n",
            "Bye User\n"
          ]
        }
      ]
    },
    {
      "cell_type": "code",
      "source": [
        "import urllib.request as url\n",
        "import json\n",
        "# json - Javascript Object Notation\n",
        "# In python JSON will be converted into a dictionary"
      ],
      "metadata": {
        "id": "T_LaQz0DxGsp"
      },
      "execution_count": 20,
      "outputs": []
    },
    {
      "cell_type": "code",
      "source": [
        "path = \"https://newsapi.org/v2/top-headlines?country=in&category=sports&apiKey=695e07af402f4b119f0703e9b19f4683\"\n",
        "# making HTTPRequest to NewsAPI\n",
        "response = url.urlopen(path)"
      ],
      "metadata": {
        "id": "BWuwu0vk2mKd"
      },
      "execution_count": 34,
      "outputs": []
    },
    {
      "cell_type": "code",
      "source": [
        "# Now we will get HTTPResponse in return\n",
        "response"
      ],
      "metadata": {
        "colab": {
          "base_uri": "https://localhost:8080/"
        },
        "id": "RJbSIfR73I65",
        "outputId": "c5d3aefe-79b4-4985-aed9-1c7a6c0bd6d8"
      },
      "execution_count": 35,
      "outputs": [
        {
          "output_type": "execute_result",
          "data": {
            "text/plain": [
              "<http.client.HTTPResponse at 0x7f81e2686f10>"
            ]
          },
          "metadata": {},
          "execution_count": 35
        }
      ]
    },
    {
      "cell_type": "code",
      "source": [
        "data = json.load(response)"
      ],
      "metadata": {
        "id": "zVdmQcI_3JV8"
      },
      "execution_count": 36,
      "outputs": []
    },
    {
      "cell_type": "code",
      "source": [
        "articles = data['articles']"
      ],
      "metadata": {
        "id": "jXPahGD13bgR"
      },
      "execution_count": 37,
      "outputs": []
    },
    {
      "cell_type": "code",
      "source": [
        "type(articles)"
      ],
      "metadata": {
        "colab": {
          "base_uri": "https://localhost:8080/"
        },
        "id": "zZ-yEkKL3f6T",
        "outputId": "acccc22e-fd93-4c68-99bf-26cf7c9bab80"
      },
      "execution_count": 38,
      "outputs": [
        {
          "output_type": "execute_result",
          "data": {
            "text/plain": [
              "list"
            ]
          },
          "metadata": {},
          "execution_count": 38
        }
      ]
    },
    {
      "cell_type": "code",
      "source": [
        "articles"
      ],
      "metadata": {
        "colab": {
          "base_uri": "https://localhost:8080/"
        },
        "id": "mss9T5Xu5LeJ",
        "outputId": "ed816d0a-8f36-422a-895f-0a5112871818"
      },
      "execution_count": 41,
      "outputs": [
        {
          "output_type": "execute_result",
          "data": {
            "text/plain": [
              "[{'source': {'id': 'espn-cric-info', 'name': 'ESPN Cric Info'},\n",
              "  'author': 'ESPNcricinfo staff',\n",
              "  'title': 'Kane Williamson to miss third T20I against India because of a medical appointment - ESPNcricinfo',\n",
              "  'description': 'Tim Southee to take up captaincy duties; Mark Chapman called up as replacement',\n",
              "  'url': 'https://www.espncricinfo.com/story/ind-vs-nz-3rd-t20i-kane-williamson-to-miss-third-t20i-against-india-because-of-a-medical-appointment-1345704',\n",
              "  'urlToImage': 'https://img1.hscicdn.com/image/upload/f_auto/lsci/db/PICTURES/CMS/349400/349470.6.jpg',\n",
              "  'publishedAt': '2022-11-21T04:16:40Z',\n",
              "  'content': 'Kane Williamson scored 61 off 52 balls in the second T20I\\xa0\\xa0•\\xa0\\xa0Associated Press'},\n",
              " {'source': {'id': 'espn-cric-info', 'name': 'ESPN Cric Info'},\n",
              "  'author': 'Alex Malcolm',\n",
              "  'title': 'CA opens door to Warner leadership return after amending code of conduct - ESPNcricinfo',\n",
              "  'description': 'Warner will be able to apply to a three-person review panel to have his lifetime leadership ban modified',\n",
              "  'url': 'https://www.espncricinfo.com/story/australia-news-ca-opens-the-door-to-warner-leadership-return-after-amending-their-code-of-conduct-1345700',\n",
              "  'urlToImage': 'https://img1.hscicdn.com/image/upload/f_auto/lsci/db/PICTURES/CMS/347000/347066.6.jpg',\n",
              "  'publishedAt': '2022-11-21T03:39:58Z',\n",
              "  'content': 'NewsWarner will be able to apply to a three-person review panel to have his lifetime leadership ban modified'},\n",
              " {'source': {'id': None, 'name': 'Hindustan Times'},\n",
              "  'author': 'HT Sports Desk',\n",
              "  'title': \"Rohit Sharma's 11-year-old tweet resurfaces after Suryakumar's blazing century - Hindustan Times\",\n",
              "  'description': 'On Sunday, Suryakumar once again showed why he is here to reign for long, with his blazing ton against New Zealand. But while the knock left everyone mesmerised, and few of them even surprised by his abilities, Rohit Sharma had long seen it coming. | Cricket',\n",
              "  'url': 'https://www.hindustantimes.com/cricket/rohit-sharma-s-11-year-old-tweet-resurfaces-after-suryakumar-yadav-s-blazing-century-fans-call-ind-captain-visionary-101668997923409.html',\n",
              "  'urlToImage': 'https://images.hindustantimes.com/img/2022/11/21/1600x900/New_Project_-_2022-11-21T080446416_1668998198750_1668998198893_1668998198893.jpg',\n",
              "  'publishedAt': '2022-11-21T03:05:02Z',\n",
              "  'content': 'It was only 20 months back that Suryakumar Yadav had made his debut for India. After years on incredible performances in the Indian Premier League, Suryakumar was finally given the opportunity to don… [+1995 chars]'},\n",
              " {'source': {'id': None, 'name': 'NDTV News'},\n",
              "  'author': 'NDTV Sports Desk',\n",
              "  'title': 'Fans Miffed With Jio Cinema For Poor Streaming During FIFA World Cup Opener - NDTV Sports',\n",
              "  'description': 'The fans in India had a problem in streaming the opening ceremony of the FIFA World Cup as Jio Cinema kept on buffering. Many users then took to Twitter to slam the platform for not having the best possible streaming for the biggest event in the world.',\n",
              "  'url': 'https://sports.ndtv.com/fifa-world-cup-2022/fans-miffed-with-jio-cinema-for-poor-streaming-during-fifa-world-cup-opener-3538742',\n",
              "  'urlToImage': 'https://c.ndtvimg.com/2022-11/54292n6_qatar-football-team_625x300_20_November_22.jpg?im=FaceCrop,algorithm=dnn,width=1200,height=675',\n",
              "  'publishedAt': '2022-11-21T03:02:37Z',\n",
              "  'content': \"One of the biggest sporting event in the world -- The FIFA World Cup -- kicked off on Sunday with a glittering opening ceremony. The likes of Morgan Freeman, BTS' singer Jung Kook enthralled the capa… [+3164 chars]\"},\n",
              " {'source': {'id': None, 'name': 'News18'},\n",
              "  'author': 'News18',\n",
              "  'title': 'FIFA World Cup 2022: Ecuador Skipper Enner Valencia Condemns Qatar to Opening Day Defeat - News18',\n",
              "  'description': 'Enner Valencia netted first from the penalty spot and then with a header to give Ecuador a victory in the curtain raiser as Qatar became the first host nation to lose the opening World Cup game',\n",
              "  'url': 'https://www.news18.com/news/football/fifa-world-cup-2022-ecuador-skipper-enner-valencia-condemns-qatar-to-opining-day-defeat-6430165.html',\n",
              "  'urlToImage': 'https://images.news18.com/ibnlive/uploads/2022/11/enner-valencia-166897042916x9.jpg',\n",
              "  'publishedAt': '2022-11-21T02:17:00Z',\n",
              "  'content': 'Ecuador comprehensively defeated Qatar 2-0 in the opening match of the FIFA World Cup at the Al Bayt Stadium on Sunday.\\r\\nFrom the first moments, Qatar made a disappointing start to their World Cup ca… [+1393 chars]'},\n",
              " {'source': {'id': None, 'name': 'News18'},\n",
              "  'author': 'News Desk',\n",
              "  'title': 'Qatar Invites Indian fugitive Zakir Naik To Preach Islam at FIFA World Cup: Reports - News18',\n",
              "  'description': \"In March this year, India declared Naik's Islamic Research Foundationan unlawful association and outlawed it for five years\",\n",
              "  'url': 'https://www.news18.com/news/india/qatar-invites-indian-fugitive-zakir-naik-to-preach-islam-at-fifa-world-cup-reports-6430339.html',\n",
              "  'urlToImage': 'https://images.news18.com/ibnlive/uploads/2022/11/untitled-32-166899607816x9.jpg',\n",
              "  'publishedAt': '2022-11-21T02:07:00Z',\n",
              "  'content': 'Qatar has invited Zakir Naik, a controversial Indian Islamic preacher who is banned in India, to give religious sermons at\\xa0the FIFA World Cup 2022.\\xa0Naik, who\\xa0faces charges of money laundering and hat… [+1531 chars]'},\n",
              " {'source': {'id': None, 'name': 'International Cricket Council'},\n",
              "  'author': 'ICC',\n",
              "  'title': 'Appendix issue the latest setback as Pakistan star recovers in hospital - ICC Cricket',\n",
              "  'description': 'Pakistan quick Shaheen Afridi has undergone surgery on his appendix as the star pacer continues his recovery from his ongoing knee injury.',\n",
              "  'url': 'https://www.icc-cricket.com/news/2913889',\n",
              "  'urlToImage': 'https://resources.pulse.icc-cricket.com/ICC/photo/2022/11/20/02a30650-e0a9-4394-92db-22eddd26d94d/Afridi-appendix.jpg',\n",
              "  'publishedAt': '2022-11-20T23:39:13Z',\n",
              "  'content': 'Pakistan quick Shaheen Afridi has undergone surgery on his appendix as the star pacer continues his recovery from his ongoing knee injury.Afridi has been battling a knee complaint since he hurt it wh… [+1460 chars]'},\n",
              " {'source': {'id': 'google-news', 'name': 'Google News'},\n",
              "  'author': None,\n",
              "  'title': \"Ivanisevic On Djokovic: 'He's Still Going To Be Even Better' - ATP Tour\",\n",
              "  'description': None,\n",
              "  'url': 'https://news.google.com/__i/rss/rd/articles/CBMiSWh0dHBzOi8vd3d3LmF0cHRvdXIuY29tL2VuL25ld3MvaXZhbmlzZXZpYy1uaXR0by1hdHAtZmluYWxzLTIwMjItcmVhY3Rpb27SAQA?oc=5',\n",
              "  'urlToImage': None,\n",
              "  'publishedAt': '2022-11-20T22:31:26Z',\n",
              "  'content': None},\n",
              " {'source': {'id': None, 'name': 'Mirror Online'},\n",
              "  'author': 'Daniel Orme',\n",
              "  'title': 'Real Madrid make decision as Cristiano Ronaldo plots sensational transfer return - The Mirror',\n",
              "  'description': 'Cristiano Ronaldo appears highly unlikely to play for Man Utd again and his former employers Real Madrid have come to a decision over a potential return for the Portuguese forward',\n",
              "  'url': 'https://www.mirror.co.uk/sport/football/transfer-news/real-madrid-ronaldo-transfer-manutd-28541932',\n",
              "  'urlToImage': 'https://i2-prod.mirror.co.uk/incoming/article28541926.ece/ALTERNATES/s1200/1_Untitled-1.jpg',\n",
              "  'publishedAt': '2022-11-20T22:07:42Z',\n",
              "  'content': 'Real Madrid have reportedly decided not to make a move for former striker Cristiano Ronaldo despite the Portuguese eyeing an emotional reunion with the Spanish giants. \\r\\n The veteran forward appears … [+2614 chars]'},\n",
              " {'source': {'id': None, 'name': 'The Indian Express'},\n",
              "  'author': 'Sandip G',\n",
              "  'title': 'FIFA World Cup Day 1: Hosts Qatar lose on field, win hearts outside - The Indian Express',\n",
              "  'description': 'Ecuador win the opening game 2-0 against listless hosts but away from the stadium crowds exhibit passion and fervour',\n",
              "  'url': 'https://indianexpress.com/article/sports/football/fifa-world-cup-day-1-hosts-qatar-lose-on-field-win-hearts-outside-8279774/',\n",
              "  'urlToImage': 'https://images.indianexpress.com/2022/11/ecuador-1.jpg',\n",
              "  'publishedAt': '2022-11-20T18:17:51Z',\n",
              "  'content': 'THE REAL moment when it sunk in that the World Cup was upon the world was not when the fireworks wobbled into the smoky skies like flying snakes, or when Morgan Freeman spoke, or when Qatar’s emir Sh… [+5651 chars]'},\n",
              " {'source': {'id': 'espn-cric-info', 'name': 'ESPN Cric Info'},\n",
              "  'author': 'Andrew McGlashan',\n",
              "  'title': \"Starc: 'Tests always far above the white-ball cricket' - ESPNcricinfo\",\n",
              "  'description': '\"I don\\'t think playing three formats is something I can [continue] for a long period of time moving forward\"',\n",
              "  'url': 'https://www.espncricinfo.com/story/mitchell-starc-tests-always-far-above-the-white-ball-cricket-1345521',\n",
              "  'urlToImage': 'https://img1.hscicdn.com/image/upload/f_auto/lsci/db/PICTURES/CMS/349300/349346.6.jpg',\n",
              "  'publishedAt': '2022-11-20T16:57:16Z',\n",
              "  'content': '\"It\\'s certainly impossible at the moment to play every game as a three-format player\"\\xa0\\xa0•\\xa0\\xa0Getty Images'},\n",
              " {'source': {'id': None, 'name': 'Formula 1'},\n",
              "  'author': 'F1',\n",
              "  'title': 'Perez says he ‘gave it all’ in Abu Dhabi GP despite coming up short in fight for P2 with Leclerc - Formula 1',\n",
              "  'description': 'Sergio Perez narrowly missed out on P2 in the constructors’ championship after finishing in third place at the season-ending Abu Dhabi GP. However, despite the result, the Mexican believes he and his team can still be “pleased” by their performance this seaso…',\n",
              "  'url': 'https://www.formula1.com/en/latest/article.perez-says-he-gave-it-all-in-abu-dhabi-gp-despite-coming-up-short-in-fight.1kAQ0ZOQMOU35B5tAxsmKg.html',\n",
              "  'urlToImage': 'https://www.formula1.com/content/dam/fom-website/sutton/2022/AbuDhabi/Sunday/1443020052.jpg',\n",
              "  'publishedAt': '2022-11-20T16:32:37Z',\n",
              "  'content': 'Sergio Perez narrowly missed out on P2 in the constructors championship after finishing in third place at the season-ending Abu Dhabi Grand Prix. However, despite the result, the Mexican believes he … [+1911 chars]'},\n",
              " {'source': {'id': None, 'name': 'Formula 1'},\n",
              "  'author': 'F1',\n",
              "  'title': 'Vettel urges fellow drivers to continue his legacy after retiring from F1 with points finish in Abu Dhabi - Formula 1',\n",
              "  'description': 'Sebastian Vettel added one more point to his enviable tally as the four-time world champion rounded out his F1 career with a hard-fought run to 10th position in the Abu Dhabi Grand Prix.',\n",
              "  'url': 'https://www.formula1.com/en/latest/article.vettel-urges-fellow-drivers-to-continue-his-legacy-after-retiring-from-f1.1tqRvUDNRISF8i5yt97PoL.html',\n",
              "  'urlToImage': 'https://www.formula1.com/content/dam/fom-website/sutton/2022/AbuDhabi/Sunday/1443020781.jpg',\n",
              "  'publishedAt': '2022-11-20T16:28:01Z',\n",
              "  'content': 'Sebastian Vettel added one more point to his enviable tally as the four-time world champion rounded out his F1 career with a hard-fought run to 10th position in the Abu Dhabi Grand Prix.\\r\\nAfter storm… [+2611 chars]'},\n",
              " {'source': {'id': None, 'name': 'Manchester Evening News'},\n",
              "  'author': 'Dan Brown',\n",
              "  'title': \"Cristiano Ronaldo's mum finally reacts to Man United star's controversial Piers Morgan interview - Manchester Evening News\",\n",
              "  'description': 'Man United striker Cristiano Ronaldo has come under intense criticism following his recent interview with Piers Morgan.',\n",
              "  'url': 'https://www.manchestereveningnews.co.uk/sport/football/football-news/cristiano-ronaldo-mum-interview-united-25562994',\n",
              "  'urlToImage': 'https://i2-prod.manchestereveningnews.co.uk/incoming/article25563003.ece/ALTERNATES/s1200/0_ronaldo-mum.jpg',\n",
              "  'publishedAt': '2022-11-20T16:26:53Z',\n",
              "  'content': \"Cristiano Ronaldo's mother, Dolores Aveiro, has reacted to the Manchester United striker's recent TV interview with Piers Morgan and offered her support to her son.\\r\\nThe Portuguese international has … [+1544 chars]\"},\n",
              " {'source': {'id': None, 'name': 'Formula 1'},\n",
              "  'author': 'F1',\n",
              "  'title': 'FACTS AND STATS: Verstappen takes first one-track hat-trick with third Yas Marina win - Formula 1',\n",
              "  'description': 'The season finale always gives stats fan a field day as the year’s final scores are settled – and Abu Dhabi 2022 was no different. Here’s just a few of the big numbers from Yas Marina…',\n",
              "  'url': 'https://www.formula1.com/en/latest/article.facts-and-stats-verstappen-takes-first-one-track-hat-trick-with-third-yas.1NX9ihbsfVtLS16XYm599m.html',\n",
              "  'urlToImage': 'https://www.formula1.com/content/dam/fom-website/sutton/2022/AbuDhabi/Sunday/1443022012.jpg',\n",
              "  'publishedAt': '2022-11-20T15:55:07Z',\n",
              "  'content': 'The season finale always gives stats fan a field day as the years final scores are settled and Abu Dhabi 2022 was no different. World champion Max Verstappen kept his foot on the gas for yet another … [+765 chars]'},\n",
              " {'source': {'id': 'google-news', 'name': 'Google News'},\n",
              "  'author': None,\n",
              "  'title': 'MCCT Finals 6: Magnus wins with round to spare - Chess24',\n",
              "  'description': None,\n",
              "  'url': 'https://news.google.com/__i/rss/rd/articles/CBMiTmh0dHBzOi8vY2hlc3MyNC5jb20vZW4vcmVhZC9uZXdzL21jY3QtZmluYWxzLTYtbWFnbnVzLXdpbnMtd2l0aC1yb3VuZC10by1zcGFyZdIBAA?oc=5',\n",
              "  'urlToImage': None,\n",
              "  'publishedAt': '2022-11-20T15:53:00Z',\n",
              "  'content': None},\n",
              " {'source': {'id': None, 'name': 'PlanetF1'},\n",
              "  'author': 'Michelle Foster',\n",
              "  'title': \"Mick Schumacher thankful for 'humbling' Mercedes praise, is open to reserve role - Planet F1\",\n",
              "  'description': 'Mick Schumacher says Mercedes are \"part\" of his options for 2023.',\n",
              "  'url': 'https://www.planetf1.com/news/mick-schumacher-mercedes-praise-open-to-reserve-role/',\n",
              "  'urlToImage': 'https://d3cm515ijfiu6w.cloudfront.net/wp-content/uploads/2022/11/20055608/mick-schumacher-climbing-into-his-haas-planetf1.jpg',\n",
              "  'publishedAt': '2022-11-20T15:22:35Z',\n",
              "  'content': 'Dropped by Haas, Mick Schumacher has confirmed Mercedes are “part” of his list of options for next year’s championship.\\r\\nSchumacher is without a Formula 1 race seat for next season, Haas team boss Gu… [+2084 chars]'},\n",
              " {'source': {'id': None, 'name': 'Formula 1'},\n",
              "  'author': 'F1',\n",
              "  'title': 'Hamilton says brake problems and ‘bouncing’ cost Mercedes after third row showing in Abu Dhabi qualifying - Formula 1',\n",
              "  'description': 'Lewis Hamilton and George Russell start on the third row behind Ferrari and Red Bull in Sunday’s Abu Dhabi Grand Prix, with seven-time champion Hamilton explaining that a couple of issues made for a tough qualifying on Saturday.',\n",
              "  'url': 'https://www.formula1.com/en/latest/article.hamilton-says-brake-problems-and-bouncing-cost-mercedes-after-third-row.XBrNqhtcCW5K89Jxes9PZ.html',\n",
              "  'urlToImage': 'https://www.formula1.com/content/dam/fom-website/manual/Misc/2022manual/2022Races/AbuDhabiGP/Saturday/GettyImages-1244898526.jpg',\n",
              "  'publishedAt': '2022-11-20T12:46:43Z',\n",
              "  'content': 'Lewis Hamilton and George Russell start on the third row behind Ferrari and Red Bull in Sundays Abu Dhabi Grand Prix, with seven-time champion Hamilton explaining that a couple of issues made for a t… [+1867 chars]'},\n",
              " {'source': {'id': None, 'name': 'Zoom'},\n",
              "  'author': 'TN Sports Desk',\n",
              "  'title': \"Virat Kohli leaves epic three-word reply on Cristiano Ronaldo-Lionel Messi's viral picture - Times Now\",\n",
              "  'description': \"Indian cricket legend Virat Kohli replied to footballing stars Cristiano Ronaldo and Lionel Messi's picture. Ronaldo and Messi posted a picture together on the eve of the 2022 FIFA World Cup starting in Qatar. Messi and Ronaldo are most likely to be playing t…\",\n",
              "  'url': 'https://www.timesnownews.com/sports/cricket/virat-kohli-leaves-epic-three-word-reply-on-cristiano-ronaldo-lionel-messis-viral-picture-article-95640958',\n",
              "  'urlToImage': 'https://static.tnn.in/thumb/msid-95640958,imgsize-100,width-1280,height-720,resizemode-75/95640958.jpg',\n",
              "  'publishedAt': '2022-11-20T12:33:15Z',\n",
              "  'content': \"Woman's body cut into 8 pieces, head thrown in pond, remaining parts in well - Azamgarh Police reveal chilling details\"},\n",
              " {'source': {'id': None, 'name': 'Hindustan Times'},\n",
              "  'author': 'HT Sports Desk',\n",
              "  'title': \"‘I want to see more…’: Pandya's special request for India batters after 2nd T20I - Hindustan Times\",\n",
              "  'description': \"Hardik Pandya, who didn't bowl in the match, also hinted towards Team India's strategy going forward in the T20I series. | Cricket\",\n",
              "  'url': 'https://www.hindustantimes.com/cricket/i-want-to-see-more-hardik-pandya-s-special-request-for-india-batters-after-2nd-t20i-vs-new-zealand-101668944989538.html',\n",
              "  'urlToImage': 'https://images.hindustantimes.com/img/2022/11/20/1600x900/Australia-T20-World-Cup-Cricket-38_1668945266837_1668945266837_1668945298221_1668945298221.jpg',\n",
              "  'publishedAt': '2022-11-20T12:19:58Z',\n",
              "  'content': \"'Young' Team India routed hosts New Zealand by 65 runs in the second T20I on Sunday. Player of the Match Suryakumar Yadav notched up his second T20I century, toying with the Kiwi bowlers while scorin… [+1686 chars]\"}]"
            ]
          },
          "metadata": {},
          "execution_count": 41
        }
      ]
    },
    {
      "cell_type": "code",
      "source": [
        "articles[0]['title']"
      ],
      "metadata": {
        "colab": {
          "base_uri": "https://localhost:8080/",
          "height": 36
        },
        "id": "XJKKwEHt3qoV",
        "outputId": "69e3b6f0-3c86-40bc-ce9d-73ba22c11618"
      },
      "execution_count": 39,
      "outputs": [
        {
          "output_type": "execute_result",
          "data": {
            "text/plain": [
              "'Kane Williamson to miss third T20I against India because of a medical appointment - ESPNcricinfo'"
            ],
            "application/vnd.google.colaboratory.intrinsic+json": {
              "type": "string"
            }
          },
          "metadata": {},
          "execution_count": 39
        }
      ]
    },
    {
      "cell_type": "code",
      "source": [
        "for i in range(len(articles)):\n",
        "  print(articles[i][\"title\"])\n",
        "  print(\"=\" * 20)"
      ],
      "metadata": {
        "colab": {
          "base_uri": "https://localhost:8080/"
        },
        "id": "Xdn6nCPe3sBo",
        "outputId": "065e0d3f-0a27-40d7-83b8-7f7684529918"
      },
      "execution_count": 40,
      "outputs": [
        {
          "output_type": "stream",
          "name": "stdout",
          "text": [
            "Kane Williamson to miss third T20I against India because of a medical appointment - ESPNcricinfo\n",
            "====================\n",
            "CA opens door to Warner leadership return after amending code of conduct - ESPNcricinfo\n",
            "====================\n",
            "Rohit Sharma's 11-year-old tweet resurfaces after Suryakumar's blazing century - Hindustan Times\n",
            "====================\n",
            "Fans Miffed With Jio Cinema For Poor Streaming During FIFA World Cup Opener - NDTV Sports\n",
            "====================\n",
            "FIFA World Cup 2022: Ecuador Skipper Enner Valencia Condemns Qatar to Opening Day Defeat - News18\n",
            "====================\n",
            "Qatar Invites Indian fugitive Zakir Naik To Preach Islam at FIFA World Cup: Reports - News18\n",
            "====================\n",
            "Appendix issue the latest setback as Pakistan star recovers in hospital - ICC Cricket\n",
            "====================\n",
            "Ivanisevic On Djokovic: 'He's Still Going To Be Even Better' - ATP Tour\n",
            "====================\n",
            "Real Madrid make decision as Cristiano Ronaldo plots sensational transfer return - The Mirror\n",
            "====================\n",
            "FIFA World Cup Day 1: Hosts Qatar lose on field, win hearts outside - The Indian Express\n",
            "====================\n",
            "Starc: 'Tests always far above the white-ball cricket' - ESPNcricinfo\n",
            "====================\n",
            "Perez says he ‘gave it all’ in Abu Dhabi GP despite coming up short in fight for P2 with Leclerc - Formula 1\n",
            "====================\n",
            "Vettel urges fellow drivers to continue his legacy after retiring from F1 with points finish in Abu Dhabi - Formula 1\n",
            "====================\n",
            "Cristiano Ronaldo's mum finally reacts to Man United star's controversial Piers Morgan interview - Manchester Evening News\n",
            "====================\n",
            "FACTS AND STATS: Verstappen takes first one-track hat-trick with third Yas Marina win - Formula 1\n",
            "====================\n",
            "MCCT Finals 6: Magnus wins with round to spare - Chess24\n",
            "====================\n",
            "Mick Schumacher thankful for 'humbling' Mercedes praise, is open to reserve role - Planet F1\n",
            "====================\n",
            "Hamilton says brake problems and ‘bouncing’ cost Mercedes after third row showing in Abu Dhabi qualifying - Formula 1\n",
            "====================\n",
            "Virat Kohli leaves epic three-word reply on Cristiano Ronaldo-Lionel Messi's viral picture - Times Now\n",
            "====================\n",
            "‘I want to see more…’: Pandya's special request for India batters after 2nd T20I - Hindustan Times\n",
            "====================\n"
          ]
        }
      ]
    },
    {
      "cell_type": "code",
      "source": [
        "import pandas as pd"
      ],
      "metadata": {
        "id": "0XrolD4-30r8"
      },
      "execution_count": 42,
      "outputs": []
    },
    {
      "cell_type": "code",
      "source": [
        "pd.DataFrame(articles)"
      ],
      "metadata": {
        "colab": {
          "base_uri": "https://localhost:8080/",
          "height": 1000
        },
        "id": "RTM_jHbD5mnZ",
        "outputId": "ebabcea0-c031-41ad-c8cf-662c68fd791d"
      },
      "execution_count": 43,
      "outputs": [
        {
          "output_type": "execute_result",
          "data": {
            "text/plain": [
              "                                               source              author  \\\n",
              "0   {'id': 'espn-cric-info', 'name': 'ESPN Cric In...  ESPNcricinfo staff   \n",
              "1   {'id': 'espn-cric-info', 'name': 'ESPN Cric In...        Alex Malcolm   \n",
              "2             {'id': None, 'name': 'Hindustan Times'}      HT Sports Desk   \n",
              "3                   {'id': None, 'name': 'NDTV News'}    NDTV Sports Desk   \n",
              "4                      {'id': None, 'name': 'News18'}              News18   \n",
              "5                      {'id': None, 'name': 'News18'}           News Desk   \n",
              "6   {'id': None, 'name': 'International Cricket Co...                 ICC   \n",
              "7        {'id': 'google-news', 'name': 'Google News'}                None   \n",
              "8               {'id': None, 'name': 'Mirror Online'}         Daniel Orme   \n",
              "9          {'id': None, 'name': 'The Indian Express'}            Sandip G   \n",
              "10  {'id': 'espn-cric-info', 'name': 'ESPN Cric In...    Andrew McGlashan   \n",
              "11                  {'id': None, 'name': 'Formula 1'}                  F1   \n",
              "12                  {'id': None, 'name': 'Formula 1'}                  F1   \n",
              "13    {'id': None, 'name': 'Manchester Evening News'}           Dan Brown   \n",
              "14                  {'id': None, 'name': 'Formula 1'}                  F1   \n",
              "15       {'id': 'google-news', 'name': 'Google News'}                None   \n",
              "16                   {'id': None, 'name': 'PlanetF1'}     Michelle Foster   \n",
              "17                  {'id': None, 'name': 'Formula 1'}                  F1   \n",
              "18                       {'id': None, 'name': 'Zoom'}      TN Sports Desk   \n",
              "19            {'id': None, 'name': 'Hindustan Times'}      HT Sports Desk   \n",
              "\n",
              "                                                title  \\\n",
              "0   Kane Williamson to miss third T20I against Ind...   \n",
              "1   CA opens door to Warner leadership return afte...   \n",
              "2   Rohit Sharma's 11-year-old tweet resurfaces af...   \n",
              "3   Fans Miffed With Jio Cinema For Poor Streaming...   \n",
              "4   FIFA World Cup 2022: Ecuador Skipper Enner Val...   \n",
              "5   Qatar Invites Indian fugitive Zakir Naik To Pr...   \n",
              "6   Appendix issue the latest setback as Pakistan ...   \n",
              "7   Ivanisevic On Djokovic: 'He's Still Going To B...   \n",
              "8   Real Madrid make decision as Cristiano Ronaldo...   \n",
              "9   FIFA World Cup Day 1: Hosts Qatar lose on fiel...   \n",
              "10  Starc: 'Tests always far above the white-ball ...   \n",
              "11  Perez says he ‘gave it all’ in Abu Dhabi GP de...   \n",
              "12  Vettel urges fellow drivers to continue his le...   \n",
              "13  Cristiano Ronaldo's mum finally reacts to Man ...   \n",
              "14  FACTS AND STATS: Verstappen takes first one-tr...   \n",
              "15  MCCT Finals 6: Magnus wins with round to spare...   \n",
              "16  Mick Schumacher thankful for 'humbling' Merced...   \n",
              "17  Hamilton says brake problems and ‘bouncing’ co...   \n",
              "18  Virat Kohli leaves epic three-word reply on Cr...   \n",
              "19  ‘I want to see more…’: Pandya's special reques...   \n",
              "\n",
              "                                          description  \\\n",
              "0   Tim Southee to take up captaincy duties; Mark ...   \n",
              "1   Warner will be able to apply to a three-person...   \n",
              "2   On Sunday, Suryakumar once again showed why he...   \n",
              "3   The fans in India had a problem in streaming t...   \n",
              "4   Enner Valencia netted first from the penalty s...   \n",
              "5   In March this year, India declared Naik's Isla...   \n",
              "6   Pakistan quick Shaheen Afridi has undergone su...   \n",
              "7                                                None   \n",
              "8   Cristiano Ronaldo appears highly unlikely to p...   \n",
              "9   Ecuador win the opening game 2-0 against listl...   \n",
              "10  \"I don't think playing three formats is someth...   \n",
              "11  Sergio Perez narrowly missed out on P2 in the ...   \n",
              "12  Sebastian Vettel added one more point to his e...   \n",
              "13  Man United striker Cristiano Ronaldo has come ...   \n",
              "14  The season finale always gives stats fan a fie...   \n",
              "15                                               None   \n",
              "16  Mick Schumacher says Mercedes are \"part\" of hi...   \n",
              "17  Lewis Hamilton and George Russell start on the...   \n",
              "18  Indian cricket legend Virat Kohli replied to f...   \n",
              "19  Hardik Pandya, who didn't bowl in the match, a...   \n",
              "\n",
              "                                                  url  \\\n",
              "0   https://www.espncricinfo.com/story/ind-vs-nz-3...   \n",
              "1   https://www.espncricinfo.com/story/australia-n...   \n",
              "2   https://www.hindustantimes.com/cricket/rohit-s...   \n",
              "3   https://sports.ndtv.com/fifa-world-cup-2022/fa...   \n",
              "4   https://www.news18.com/news/football/fifa-worl...   \n",
              "5   https://www.news18.com/news/india/qatar-invite...   \n",
              "6            https://www.icc-cricket.com/news/2913889   \n",
              "7   https://news.google.com/__i/rss/rd/articles/CB...   \n",
              "8   https://www.mirror.co.uk/sport/football/transf...   \n",
              "9   https://indianexpress.com/article/sports/footb...   \n",
              "10  https://www.espncricinfo.com/story/mitchell-st...   \n",
              "11  https://www.formula1.com/en/latest/article.per...   \n",
              "12  https://www.formula1.com/en/latest/article.vet...   \n",
              "13  https://www.manchestereveningnews.co.uk/sport/...   \n",
              "14  https://www.formula1.com/en/latest/article.fac...   \n",
              "15  https://news.google.com/__i/rss/rd/articles/CB...   \n",
              "16  https://www.planetf1.com/news/mick-schumacher-...   \n",
              "17  https://www.formula1.com/en/latest/article.ham...   \n",
              "18  https://www.timesnownews.com/sports/cricket/vi...   \n",
              "19  https://www.hindustantimes.com/cricket/i-want-...   \n",
              "\n",
              "                                           urlToImage           publishedAt  \\\n",
              "0   https://img1.hscicdn.com/image/upload/f_auto/l...  2022-11-21T04:16:40Z   \n",
              "1   https://img1.hscicdn.com/image/upload/f_auto/l...  2022-11-21T03:39:58Z   \n",
              "2   https://images.hindustantimes.com/img/2022/11/...  2022-11-21T03:05:02Z   \n",
              "3   https://c.ndtvimg.com/2022-11/54292n6_qatar-fo...  2022-11-21T03:02:37Z   \n",
              "4   https://images.news18.com/ibnlive/uploads/2022...  2022-11-21T02:17:00Z   \n",
              "5   https://images.news18.com/ibnlive/uploads/2022...  2022-11-21T02:07:00Z   \n",
              "6   https://resources.pulse.icc-cricket.com/ICC/ph...  2022-11-20T23:39:13Z   \n",
              "7                                                None  2022-11-20T22:31:26Z   \n",
              "8   https://i2-prod.mirror.co.uk/incoming/article2...  2022-11-20T22:07:42Z   \n",
              "9   https://images.indianexpress.com/2022/11/ecuad...  2022-11-20T18:17:51Z   \n",
              "10  https://img1.hscicdn.com/image/upload/f_auto/l...  2022-11-20T16:57:16Z   \n",
              "11  https://www.formula1.com/content/dam/fom-websi...  2022-11-20T16:32:37Z   \n",
              "12  https://www.formula1.com/content/dam/fom-websi...  2022-11-20T16:28:01Z   \n",
              "13  https://i2-prod.manchestereveningnews.co.uk/in...  2022-11-20T16:26:53Z   \n",
              "14  https://www.formula1.com/content/dam/fom-websi...  2022-11-20T15:55:07Z   \n",
              "15                                               None  2022-11-20T15:53:00Z   \n",
              "16  https://d3cm515ijfiu6w.cloudfront.net/wp-conte...  2022-11-20T15:22:35Z   \n",
              "17  https://www.formula1.com/content/dam/fom-websi...  2022-11-20T12:46:43Z   \n",
              "18  https://static.tnn.in/thumb/msid-95640958,imgs...  2022-11-20T12:33:15Z   \n",
              "19  https://images.hindustantimes.com/img/2022/11/...  2022-11-20T12:19:58Z   \n",
              "\n",
              "                                              content  \n",
              "0   Kane Williamson scored 61 off 52 balls in the ...  \n",
              "1   NewsWarner will be able to apply to a three-pe...  \n",
              "2   It was only 20 months back that Suryakumar Yad...  \n",
              "3   One of the biggest sporting event in the world...  \n",
              "4   Ecuador comprehensively defeated Qatar 2-0 in ...  \n",
              "5   Qatar has invited Zakir Naik, a controversial ...  \n",
              "6   Pakistan quick Shaheen Afridi has undergone su...  \n",
              "7                                                None  \n",
              "8   Real Madrid have reportedly decided not to mak...  \n",
              "9   THE REAL moment when it sunk in that the World...  \n",
              "10  \"It's certainly impossible at the moment to pl...  \n",
              "11  Sergio Perez narrowly missed out on P2 in the ...  \n",
              "12  Sebastian Vettel added one more point to his e...  \n",
              "13  Cristiano Ronaldo's mother, Dolores Aveiro, ha...  \n",
              "14  The season finale always gives stats fan a fie...  \n",
              "15                                               None  \n",
              "16  Dropped by Haas, Mick Schumacher has confirmed...  \n",
              "17  Lewis Hamilton and George Russell start on the...  \n",
              "18  Woman's body cut into 8 pieces, head thrown in...  \n",
              "19  'Young' Team India routed hosts New Zealand by...  "
            ],
            "text/html": [
              "\n",
              "  <div id=\"df-b0325ca3-5f5e-40c8-81bf-cebbe53c7d73\">\n",
              "    <div class=\"colab-df-container\">\n",
              "      <div>\n",
              "<style scoped>\n",
              "    .dataframe tbody tr th:only-of-type {\n",
              "        vertical-align: middle;\n",
              "    }\n",
              "\n",
              "    .dataframe tbody tr th {\n",
              "        vertical-align: top;\n",
              "    }\n",
              "\n",
              "    .dataframe thead th {\n",
              "        text-align: right;\n",
              "    }\n",
              "</style>\n",
              "<table border=\"1\" class=\"dataframe\">\n",
              "  <thead>\n",
              "    <tr style=\"text-align: right;\">\n",
              "      <th></th>\n",
              "      <th>source</th>\n",
              "      <th>author</th>\n",
              "      <th>title</th>\n",
              "      <th>description</th>\n",
              "      <th>url</th>\n",
              "      <th>urlToImage</th>\n",
              "      <th>publishedAt</th>\n",
              "      <th>content</th>\n",
              "    </tr>\n",
              "  </thead>\n",
              "  <tbody>\n",
              "    <tr>\n",
              "      <th>0</th>\n",
              "      <td>{'id': 'espn-cric-info', 'name': 'ESPN Cric In...</td>\n",
              "      <td>ESPNcricinfo staff</td>\n",
              "      <td>Kane Williamson to miss third T20I against Ind...</td>\n",
              "      <td>Tim Southee to take up captaincy duties; Mark ...</td>\n",
              "      <td>https://www.espncricinfo.com/story/ind-vs-nz-3...</td>\n",
              "      <td>https://img1.hscicdn.com/image/upload/f_auto/l...</td>\n",
              "      <td>2022-11-21T04:16:40Z</td>\n",
              "      <td>Kane Williamson scored 61 off 52 balls in the ...</td>\n",
              "    </tr>\n",
              "    <tr>\n",
              "      <th>1</th>\n",
              "      <td>{'id': 'espn-cric-info', 'name': 'ESPN Cric In...</td>\n",
              "      <td>Alex Malcolm</td>\n",
              "      <td>CA opens door to Warner leadership return afte...</td>\n",
              "      <td>Warner will be able to apply to a three-person...</td>\n",
              "      <td>https://www.espncricinfo.com/story/australia-n...</td>\n",
              "      <td>https://img1.hscicdn.com/image/upload/f_auto/l...</td>\n",
              "      <td>2022-11-21T03:39:58Z</td>\n",
              "      <td>NewsWarner will be able to apply to a three-pe...</td>\n",
              "    </tr>\n",
              "    <tr>\n",
              "      <th>2</th>\n",
              "      <td>{'id': None, 'name': 'Hindustan Times'}</td>\n",
              "      <td>HT Sports Desk</td>\n",
              "      <td>Rohit Sharma's 11-year-old tweet resurfaces af...</td>\n",
              "      <td>On Sunday, Suryakumar once again showed why he...</td>\n",
              "      <td>https://www.hindustantimes.com/cricket/rohit-s...</td>\n",
              "      <td>https://images.hindustantimes.com/img/2022/11/...</td>\n",
              "      <td>2022-11-21T03:05:02Z</td>\n",
              "      <td>It was only 20 months back that Suryakumar Yad...</td>\n",
              "    </tr>\n",
              "    <tr>\n",
              "      <th>3</th>\n",
              "      <td>{'id': None, 'name': 'NDTV News'}</td>\n",
              "      <td>NDTV Sports Desk</td>\n",
              "      <td>Fans Miffed With Jio Cinema For Poor Streaming...</td>\n",
              "      <td>The fans in India had a problem in streaming t...</td>\n",
              "      <td>https://sports.ndtv.com/fifa-world-cup-2022/fa...</td>\n",
              "      <td>https://c.ndtvimg.com/2022-11/54292n6_qatar-fo...</td>\n",
              "      <td>2022-11-21T03:02:37Z</td>\n",
              "      <td>One of the biggest sporting event in the world...</td>\n",
              "    </tr>\n",
              "    <tr>\n",
              "      <th>4</th>\n",
              "      <td>{'id': None, 'name': 'News18'}</td>\n",
              "      <td>News18</td>\n",
              "      <td>FIFA World Cup 2022: Ecuador Skipper Enner Val...</td>\n",
              "      <td>Enner Valencia netted first from the penalty s...</td>\n",
              "      <td>https://www.news18.com/news/football/fifa-worl...</td>\n",
              "      <td>https://images.news18.com/ibnlive/uploads/2022...</td>\n",
              "      <td>2022-11-21T02:17:00Z</td>\n",
              "      <td>Ecuador comprehensively defeated Qatar 2-0 in ...</td>\n",
              "    </tr>\n",
              "    <tr>\n",
              "      <th>5</th>\n",
              "      <td>{'id': None, 'name': 'News18'}</td>\n",
              "      <td>News Desk</td>\n",
              "      <td>Qatar Invites Indian fugitive Zakir Naik To Pr...</td>\n",
              "      <td>In March this year, India declared Naik's Isla...</td>\n",
              "      <td>https://www.news18.com/news/india/qatar-invite...</td>\n",
              "      <td>https://images.news18.com/ibnlive/uploads/2022...</td>\n",
              "      <td>2022-11-21T02:07:00Z</td>\n",
              "      <td>Qatar has invited Zakir Naik, a controversial ...</td>\n",
              "    </tr>\n",
              "    <tr>\n",
              "      <th>6</th>\n",
              "      <td>{'id': None, 'name': 'International Cricket Co...</td>\n",
              "      <td>ICC</td>\n",
              "      <td>Appendix issue the latest setback as Pakistan ...</td>\n",
              "      <td>Pakistan quick Shaheen Afridi has undergone su...</td>\n",
              "      <td>https://www.icc-cricket.com/news/2913889</td>\n",
              "      <td>https://resources.pulse.icc-cricket.com/ICC/ph...</td>\n",
              "      <td>2022-11-20T23:39:13Z</td>\n",
              "      <td>Pakistan quick Shaheen Afridi has undergone su...</td>\n",
              "    </tr>\n",
              "    <tr>\n",
              "      <th>7</th>\n",
              "      <td>{'id': 'google-news', 'name': 'Google News'}</td>\n",
              "      <td>None</td>\n",
              "      <td>Ivanisevic On Djokovic: 'He's Still Going To B...</td>\n",
              "      <td>None</td>\n",
              "      <td>https://news.google.com/__i/rss/rd/articles/CB...</td>\n",
              "      <td>None</td>\n",
              "      <td>2022-11-20T22:31:26Z</td>\n",
              "      <td>None</td>\n",
              "    </tr>\n",
              "    <tr>\n",
              "      <th>8</th>\n",
              "      <td>{'id': None, 'name': 'Mirror Online'}</td>\n",
              "      <td>Daniel Orme</td>\n",
              "      <td>Real Madrid make decision as Cristiano Ronaldo...</td>\n",
              "      <td>Cristiano Ronaldo appears highly unlikely to p...</td>\n",
              "      <td>https://www.mirror.co.uk/sport/football/transf...</td>\n",
              "      <td>https://i2-prod.mirror.co.uk/incoming/article2...</td>\n",
              "      <td>2022-11-20T22:07:42Z</td>\n",
              "      <td>Real Madrid have reportedly decided not to mak...</td>\n",
              "    </tr>\n",
              "    <tr>\n",
              "      <th>9</th>\n",
              "      <td>{'id': None, 'name': 'The Indian Express'}</td>\n",
              "      <td>Sandip G</td>\n",
              "      <td>FIFA World Cup Day 1: Hosts Qatar lose on fiel...</td>\n",
              "      <td>Ecuador win the opening game 2-0 against listl...</td>\n",
              "      <td>https://indianexpress.com/article/sports/footb...</td>\n",
              "      <td>https://images.indianexpress.com/2022/11/ecuad...</td>\n",
              "      <td>2022-11-20T18:17:51Z</td>\n",
              "      <td>THE REAL moment when it sunk in that the World...</td>\n",
              "    </tr>\n",
              "    <tr>\n",
              "      <th>10</th>\n",
              "      <td>{'id': 'espn-cric-info', 'name': 'ESPN Cric In...</td>\n",
              "      <td>Andrew McGlashan</td>\n",
              "      <td>Starc: 'Tests always far above the white-ball ...</td>\n",
              "      <td>\"I don't think playing three formats is someth...</td>\n",
              "      <td>https://www.espncricinfo.com/story/mitchell-st...</td>\n",
              "      <td>https://img1.hscicdn.com/image/upload/f_auto/l...</td>\n",
              "      <td>2022-11-20T16:57:16Z</td>\n",
              "      <td>\"It's certainly impossible at the moment to pl...</td>\n",
              "    </tr>\n",
              "    <tr>\n",
              "      <th>11</th>\n",
              "      <td>{'id': None, 'name': 'Formula 1'}</td>\n",
              "      <td>F1</td>\n",
              "      <td>Perez says he ‘gave it all’ in Abu Dhabi GP de...</td>\n",
              "      <td>Sergio Perez narrowly missed out on P2 in the ...</td>\n",
              "      <td>https://www.formula1.com/en/latest/article.per...</td>\n",
              "      <td>https://www.formula1.com/content/dam/fom-websi...</td>\n",
              "      <td>2022-11-20T16:32:37Z</td>\n",
              "      <td>Sergio Perez narrowly missed out on P2 in the ...</td>\n",
              "    </tr>\n",
              "    <tr>\n",
              "      <th>12</th>\n",
              "      <td>{'id': None, 'name': 'Formula 1'}</td>\n",
              "      <td>F1</td>\n",
              "      <td>Vettel urges fellow drivers to continue his le...</td>\n",
              "      <td>Sebastian Vettel added one more point to his e...</td>\n",
              "      <td>https://www.formula1.com/en/latest/article.vet...</td>\n",
              "      <td>https://www.formula1.com/content/dam/fom-websi...</td>\n",
              "      <td>2022-11-20T16:28:01Z</td>\n",
              "      <td>Sebastian Vettel added one more point to his e...</td>\n",
              "    </tr>\n",
              "    <tr>\n",
              "      <th>13</th>\n",
              "      <td>{'id': None, 'name': 'Manchester Evening News'}</td>\n",
              "      <td>Dan Brown</td>\n",
              "      <td>Cristiano Ronaldo's mum finally reacts to Man ...</td>\n",
              "      <td>Man United striker Cristiano Ronaldo has come ...</td>\n",
              "      <td>https://www.manchestereveningnews.co.uk/sport/...</td>\n",
              "      <td>https://i2-prod.manchestereveningnews.co.uk/in...</td>\n",
              "      <td>2022-11-20T16:26:53Z</td>\n",
              "      <td>Cristiano Ronaldo's mother, Dolores Aveiro, ha...</td>\n",
              "    </tr>\n",
              "    <tr>\n",
              "      <th>14</th>\n",
              "      <td>{'id': None, 'name': 'Formula 1'}</td>\n",
              "      <td>F1</td>\n",
              "      <td>FACTS AND STATS: Verstappen takes first one-tr...</td>\n",
              "      <td>The season finale always gives stats fan a fie...</td>\n",
              "      <td>https://www.formula1.com/en/latest/article.fac...</td>\n",
              "      <td>https://www.formula1.com/content/dam/fom-websi...</td>\n",
              "      <td>2022-11-20T15:55:07Z</td>\n",
              "      <td>The season finale always gives stats fan a fie...</td>\n",
              "    </tr>\n",
              "    <tr>\n",
              "      <th>15</th>\n",
              "      <td>{'id': 'google-news', 'name': 'Google News'}</td>\n",
              "      <td>None</td>\n",
              "      <td>MCCT Finals 6: Magnus wins with round to spare...</td>\n",
              "      <td>None</td>\n",
              "      <td>https://news.google.com/__i/rss/rd/articles/CB...</td>\n",
              "      <td>None</td>\n",
              "      <td>2022-11-20T15:53:00Z</td>\n",
              "      <td>None</td>\n",
              "    </tr>\n",
              "    <tr>\n",
              "      <th>16</th>\n",
              "      <td>{'id': None, 'name': 'PlanetF1'}</td>\n",
              "      <td>Michelle Foster</td>\n",
              "      <td>Mick Schumacher thankful for 'humbling' Merced...</td>\n",
              "      <td>Mick Schumacher says Mercedes are \"part\" of hi...</td>\n",
              "      <td>https://www.planetf1.com/news/mick-schumacher-...</td>\n",
              "      <td>https://d3cm515ijfiu6w.cloudfront.net/wp-conte...</td>\n",
              "      <td>2022-11-20T15:22:35Z</td>\n",
              "      <td>Dropped by Haas, Mick Schumacher has confirmed...</td>\n",
              "    </tr>\n",
              "    <tr>\n",
              "      <th>17</th>\n",
              "      <td>{'id': None, 'name': 'Formula 1'}</td>\n",
              "      <td>F1</td>\n",
              "      <td>Hamilton says brake problems and ‘bouncing’ co...</td>\n",
              "      <td>Lewis Hamilton and George Russell start on the...</td>\n",
              "      <td>https://www.formula1.com/en/latest/article.ham...</td>\n",
              "      <td>https://www.formula1.com/content/dam/fom-websi...</td>\n",
              "      <td>2022-11-20T12:46:43Z</td>\n",
              "      <td>Lewis Hamilton and George Russell start on the...</td>\n",
              "    </tr>\n",
              "    <tr>\n",
              "      <th>18</th>\n",
              "      <td>{'id': None, 'name': 'Zoom'}</td>\n",
              "      <td>TN Sports Desk</td>\n",
              "      <td>Virat Kohli leaves epic three-word reply on Cr...</td>\n",
              "      <td>Indian cricket legend Virat Kohli replied to f...</td>\n",
              "      <td>https://www.timesnownews.com/sports/cricket/vi...</td>\n",
              "      <td>https://static.tnn.in/thumb/msid-95640958,imgs...</td>\n",
              "      <td>2022-11-20T12:33:15Z</td>\n",
              "      <td>Woman's body cut into 8 pieces, head thrown in...</td>\n",
              "    </tr>\n",
              "    <tr>\n",
              "      <th>19</th>\n",
              "      <td>{'id': None, 'name': 'Hindustan Times'}</td>\n",
              "      <td>HT Sports Desk</td>\n",
              "      <td>‘I want to see more…’: Pandya's special reques...</td>\n",
              "      <td>Hardik Pandya, who didn't bowl in the match, a...</td>\n",
              "      <td>https://www.hindustantimes.com/cricket/i-want-...</td>\n",
              "      <td>https://images.hindustantimes.com/img/2022/11/...</td>\n",
              "      <td>2022-11-20T12:19:58Z</td>\n",
              "      <td>'Young' Team India routed hosts New Zealand by...</td>\n",
              "    </tr>\n",
              "  </tbody>\n",
              "</table>\n",
              "</div>\n",
              "      <button class=\"colab-df-convert\" onclick=\"convertToInteractive('df-b0325ca3-5f5e-40c8-81bf-cebbe53c7d73')\"\n",
              "              title=\"Convert this dataframe to an interactive table.\"\n",
              "              style=\"display:none;\">\n",
              "        \n",
              "  <svg xmlns=\"http://www.w3.org/2000/svg\" height=\"24px\"viewBox=\"0 0 24 24\"\n",
              "       width=\"24px\">\n",
              "    <path d=\"M0 0h24v24H0V0z\" fill=\"none\"/>\n",
              "    <path d=\"M18.56 5.44l.94 2.06.94-2.06 2.06-.94-2.06-.94-.94-2.06-.94 2.06-2.06.94zm-11 1L8.5 8.5l.94-2.06 2.06-.94-2.06-.94L8.5 2.5l-.94 2.06-2.06.94zm10 10l.94 2.06.94-2.06 2.06-.94-2.06-.94-.94-2.06-.94 2.06-2.06.94z\"/><path d=\"M17.41 7.96l-1.37-1.37c-.4-.4-.92-.59-1.43-.59-.52 0-1.04.2-1.43.59L10.3 9.45l-7.72 7.72c-.78.78-.78 2.05 0 2.83L4 21.41c.39.39.9.59 1.41.59.51 0 1.02-.2 1.41-.59l7.78-7.78 2.81-2.81c.8-.78.8-2.07 0-2.86zM5.41 20L4 18.59l7.72-7.72 1.47 1.35L5.41 20z\"/>\n",
              "  </svg>\n",
              "      </button>\n",
              "      \n",
              "  <style>\n",
              "    .colab-df-container {\n",
              "      display:flex;\n",
              "      flex-wrap:wrap;\n",
              "      gap: 12px;\n",
              "    }\n",
              "\n",
              "    .colab-df-convert {\n",
              "      background-color: #E8F0FE;\n",
              "      border: none;\n",
              "      border-radius: 50%;\n",
              "      cursor: pointer;\n",
              "      display: none;\n",
              "      fill: #1967D2;\n",
              "      height: 32px;\n",
              "      padding: 0 0 0 0;\n",
              "      width: 32px;\n",
              "    }\n",
              "\n",
              "    .colab-df-convert:hover {\n",
              "      background-color: #E2EBFA;\n",
              "      box-shadow: 0px 1px 2px rgba(60, 64, 67, 0.3), 0px 1px 3px 1px rgba(60, 64, 67, 0.15);\n",
              "      fill: #174EA6;\n",
              "    }\n",
              "\n",
              "    [theme=dark] .colab-df-convert {\n",
              "      background-color: #3B4455;\n",
              "      fill: #D2E3FC;\n",
              "    }\n",
              "\n",
              "    [theme=dark] .colab-df-convert:hover {\n",
              "      background-color: #434B5C;\n",
              "      box-shadow: 0px 1px 3px 1px rgba(0, 0, 0, 0.15);\n",
              "      filter: drop-shadow(0px 1px 2px rgba(0, 0, 0, 0.3));\n",
              "      fill: #FFFFFF;\n",
              "    }\n",
              "  </style>\n",
              "\n",
              "      <script>\n",
              "        const buttonEl =\n",
              "          document.querySelector('#df-b0325ca3-5f5e-40c8-81bf-cebbe53c7d73 button.colab-df-convert');\n",
              "        buttonEl.style.display =\n",
              "          google.colab.kernel.accessAllowed ? 'block' : 'none';\n",
              "\n",
              "        async function convertToInteractive(key) {\n",
              "          const element = document.querySelector('#df-b0325ca3-5f5e-40c8-81bf-cebbe53c7d73');\n",
              "          const dataTable =\n",
              "            await google.colab.kernel.invokeFunction('convertToInteractive',\n",
              "                                                     [key], {});\n",
              "          if (!dataTable) return;\n",
              "\n",
              "          const docLinkHtml = 'Like what you see? Visit the ' +\n",
              "            '<a target=\"_blank\" href=https://colab.research.google.com/notebooks/data_table.ipynb>data table notebook</a>'\n",
              "            + ' to learn more about interactive tables.';\n",
              "          element.innerHTML = '';\n",
              "          dataTable['output_type'] = 'display_data';\n",
              "          await google.colab.output.renderOutput(dataTable, element);\n",
              "          const docLink = document.createElement('div');\n",
              "          docLink.innerHTML = docLinkHtml;\n",
              "          element.appendChild(docLink);\n",
              "        }\n",
              "      </script>\n",
              "    </div>\n",
              "  </div>\n",
              "  "
            ]
          },
          "metadata": {},
          "execution_count": 43
        }
      ]
    },
    {
      "cell_type": "code",
      "source": [],
      "metadata": {
        "id": "8w_AFt4x5owe"
      },
      "execution_count": null,
      "outputs": []
    }
  ]
}